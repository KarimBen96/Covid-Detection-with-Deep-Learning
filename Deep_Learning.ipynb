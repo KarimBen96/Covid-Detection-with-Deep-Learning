{
 "cells": [
  {
   "cell_type": "markdown",
   "source": [
    "# Import Stuff"
   ],
   "metadata": {}
  },
  {
   "cell_type": "code",
   "execution_count": 21,
   "source": [
    "from tensorflow import keras\r\n",
    "import tensorflow as tf"
   ],
   "outputs": [],
   "metadata": {}
  },
  {
   "cell_type": "code",
   "execution_count": 177,
   "source": [
    "import numpy as np\r\n",
    "import pandas as pd\r\n",
    "import matplotlib.pyplot as plt\r\n",
    "from tqdm import tqdm\r\n",
    "\r\n",
    "from sklearn.model_selection import train_test_split\r\n",
    "from sklearn.metrics import confusion_matrix, accuracy_score\r\n",
    "from sklearn.utils import shuffle\r\n",
    "\r\n",
    "from keras.preprocessing import image\r\n",
    "from keras.optimizers import Optimizer\r\n",
    "from tensorflow.keras.optimizers import SGD, Adam\r\n",
    "from tensorflow.keras.utils import to_categorical\r\n",
    "from tensorflow.keras.models import load_model"
   ],
   "outputs": [],
   "metadata": {}
  },
  {
   "cell_type": "markdown",
   "source": [
    "# X train, y train, X test, y test"
   ],
   "metadata": {}
  },
  {
   "cell_type": "code",
   "execution_count": 3,
   "source": [
    "X = pd.read_csv('Data/X.csv')\r\n",
    "y = pd.read_csv('Data/y.csv')"
   ],
   "outputs": [],
   "metadata": {}
  },
  {
   "cell_type": "code",
   "execution_count": 9,
   "source": [
    "X"
   ],
   "outputs": [
    {
     "output_type": "execute_result",
     "data": {
      "text/plain": [
       "     400       402       405       407       410       412       415  \\\n",
       "0    0.0 -0.015237 -0.030607 -0.038309 -0.039078 -0.035809 -0.031176   \n",
       "1    0.0 -0.012098 -0.028164 -0.035189 -0.036138 -0.031050 -0.026015   \n",
       "2    0.0 -0.013000 -0.029058 -0.035021 -0.034994 -0.033025 -0.028413   \n",
       "3    0.0 -0.015728 -0.034346 -0.045140 -0.047671 -0.044334 -0.040807   \n",
       "4    0.0 -0.020355 -0.045839 -0.060556 -0.065805 -0.064988 -0.062097   \n",
       "..   ...       ...       ...       ...       ...       ...       ...   \n",
       "304  0.0 -0.012075 -0.015969 -0.016275 -0.015292 -0.015369 -0.016400   \n",
       "305  0.0 -0.017376 -0.024656 -0.025636 -0.026982 -0.027625 -0.029134   \n",
       "306  0.0 -0.011666 -0.018976 -0.019419 -0.017430 -0.017057 -0.019041   \n",
       "307  0.0 -0.011431 -0.018292 -0.017184 -0.015339 -0.016573 -0.016317   \n",
       "308  0.0 -0.018928 -0.026700 -0.025570 -0.028584 -0.031157 -0.033729   \n",
       "\n",
       "          417       420       422  ...      2100      2101      2103  \\\n",
       "0   -0.030395 -0.033311 -0.031603  ... -0.001685 -0.000553  0.000118   \n",
       "1   -0.027539 -0.028084 -0.027075  ... -0.002085 -0.000998  0.000278   \n",
       "2   -0.028470 -0.029737 -0.029198  ... -0.002707 -0.001554  0.000050   \n",
       "3   -0.040474 -0.041417 -0.040699  ... -0.003241 -0.001541 -0.000198   \n",
       "4   -0.061955 -0.064759 -0.066886  ... -0.002151 -0.000088  0.000891   \n",
       "..        ...       ...       ...  ...       ...       ...       ...   \n",
       "304 -0.013721 -0.014503 -0.013820  ... -0.001666 -0.000538  0.000050   \n",
       "305 -0.027138 -0.026919 -0.022834  ... -0.001481  0.000275  0.000287   \n",
       "306 -0.021120 -0.019771 -0.015616  ... -0.000739  0.001393  0.001246   \n",
       "307 -0.016650 -0.016017 -0.012436  ... -0.004132 -0.002063 -0.000858   \n",
       "308 -0.034759 -0.034358 -0.030803  ... -0.000888 -0.001224 -0.001000   \n",
       "\n",
       "         2104      2105      2107      2108      2109      2111  2112  \n",
       "0    0.000566  0.001245  0.000846  0.001106  0.001005  0.000117   0.0  \n",
       "1   -0.000123  0.000384  0.001010  0.000583 -0.000397 -0.000160   0.0  \n",
       "2    0.000866  0.000877  0.000871  0.001093  0.001058  0.000614   0.0  \n",
       "3    0.000202  0.001023  0.000625  0.000420  0.000543 -0.000071   0.0  \n",
       "4    0.000942  0.001294  0.001878  0.001739  0.001946  0.001301   0.0  \n",
       "..        ...       ...       ...       ...       ...       ...   ...  \n",
       "304  0.001191  0.001467  0.001823  0.001420  0.001671  0.000966   0.0  \n",
       "305  0.000239  0.000755  0.001314  0.001320  0.000946  0.000392   0.0  \n",
       "306  0.000687  0.001516  0.001923  0.002260  0.001411  0.001238   0.0  \n",
       "307 -0.000701 -0.000713  0.000067  0.000204 -0.000403 -0.001296   0.0  \n",
       "308  0.000580  0.000546  0.000900  0.000145 -0.000180 -0.000068   0.0  \n",
       "\n",
       "[309 rows x 900 columns]"
      ],
      "text/html": [
       "<div>\n",
       "<style scoped>\n",
       "    .dataframe tbody tr th:only-of-type {\n",
       "        vertical-align: middle;\n",
       "    }\n",
       "\n",
       "    .dataframe tbody tr th {\n",
       "        vertical-align: top;\n",
       "    }\n",
       "\n",
       "    .dataframe thead th {\n",
       "        text-align: right;\n",
       "    }\n",
       "</style>\n",
       "<table border=\"1\" class=\"dataframe\">\n",
       "  <thead>\n",
       "    <tr style=\"text-align: right;\">\n",
       "      <th></th>\n",
       "      <th>400</th>\n",
       "      <th>402</th>\n",
       "      <th>405</th>\n",
       "      <th>407</th>\n",
       "      <th>410</th>\n",
       "      <th>412</th>\n",
       "      <th>415</th>\n",
       "      <th>417</th>\n",
       "      <th>420</th>\n",
       "      <th>422</th>\n",
       "      <th>...</th>\n",
       "      <th>2100</th>\n",
       "      <th>2101</th>\n",
       "      <th>2103</th>\n",
       "      <th>2104</th>\n",
       "      <th>2105</th>\n",
       "      <th>2107</th>\n",
       "      <th>2108</th>\n",
       "      <th>2109</th>\n",
       "      <th>2111</th>\n",
       "      <th>2112</th>\n",
       "    </tr>\n",
       "  </thead>\n",
       "  <tbody>\n",
       "    <tr>\n",
       "      <th>0</th>\n",
       "      <td>0.0</td>\n",
       "      <td>-0.015237</td>\n",
       "      <td>-0.030607</td>\n",
       "      <td>-0.038309</td>\n",
       "      <td>-0.039078</td>\n",
       "      <td>-0.035809</td>\n",
       "      <td>-0.031176</td>\n",
       "      <td>-0.030395</td>\n",
       "      <td>-0.033311</td>\n",
       "      <td>-0.031603</td>\n",
       "      <td>...</td>\n",
       "      <td>-0.001685</td>\n",
       "      <td>-0.000553</td>\n",
       "      <td>0.000118</td>\n",
       "      <td>0.000566</td>\n",
       "      <td>0.001245</td>\n",
       "      <td>0.000846</td>\n",
       "      <td>0.001106</td>\n",
       "      <td>0.001005</td>\n",
       "      <td>0.000117</td>\n",
       "      <td>0.0</td>\n",
       "    </tr>\n",
       "    <tr>\n",
       "      <th>1</th>\n",
       "      <td>0.0</td>\n",
       "      <td>-0.012098</td>\n",
       "      <td>-0.028164</td>\n",
       "      <td>-0.035189</td>\n",
       "      <td>-0.036138</td>\n",
       "      <td>-0.031050</td>\n",
       "      <td>-0.026015</td>\n",
       "      <td>-0.027539</td>\n",
       "      <td>-0.028084</td>\n",
       "      <td>-0.027075</td>\n",
       "      <td>...</td>\n",
       "      <td>-0.002085</td>\n",
       "      <td>-0.000998</td>\n",
       "      <td>0.000278</td>\n",
       "      <td>-0.000123</td>\n",
       "      <td>0.000384</td>\n",
       "      <td>0.001010</td>\n",
       "      <td>0.000583</td>\n",
       "      <td>-0.000397</td>\n",
       "      <td>-0.000160</td>\n",
       "      <td>0.0</td>\n",
       "    </tr>\n",
       "    <tr>\n",
       "      <th>2</th>\n",
       "      <td>0.0</td>\n",
       "      <td>-0.013000</td>\n",
       "      <td>-0.029058</td>\n",
       "      <td>-0.035021</td>\n",
       "      <td>-0.034994</td>\n",
       "      <td>-0.033025</td>\n",
       "      <td>-0.028413</td>\n",
       "      <td>-0.028470</td>\n",
       "      <td>-0.029737</td>\n",
       "      <td>-0.029198</td>\n",
       "      <td>...</td>\n",
       "      <td>-0.002707</td>\n",
       "      <td>-0.001554</td>\n",
       "      <td>0.000050</td>\n",
       "      <td>0.000866</td>\n",
       "      <td>0.000877</td>\n",
       "      <td>0.000871</td>\n",
       "      <td>0.001093</td>\n",
       "      <td>0.001058</td>\n",
       "      <td>0.000614</td>\n",
       "      <td>0.0</td>\n",
       "    </tr>\n",
       "    <tr>\n",
       "      <th>3</th>\n",
       "      <td>0.0</td>\n",
       "      <td>-0.015728</td>\n",
       "      <td>-0.034346</td>\n",
       "      <td>-0.045140</td>\n",
       "      <td>-0.047671</td>\n",
       "      <td>-0.044334</td>\n",
       "      <td>-0.040807</td>\n",
       "      <td>-0.040474</td>\n",
       "      <td>-0.041417</td>\n",
       "      <td>-0.040699</td>\n",
       "      <td>...</td>\n",
       "      <td>-0.003241</td>\n",
       "      <td>-0.001541</td>\n",
       "      <td>-0.000198</td>\n",
       "      <td>0.000202</td>\n",
       "      <td>0.001023</td>\n",
       "      <td>0.000625</td>\n",
       "      <td>0.000420</td>\n",
       "      <td>0.000543</td>\n",
       "      <td>-0.000071</td>\n",
       "      <td>0.0</td>\n",
       "    </tr>\n",
       "    <tr>\n",
       "      <th>4</th>\n",
       "      <td>0.0</td>\n",
       "      <td>-0.020355</td>\n",
       "      <td>-0.045839</td>\n",
       "      <td>-0.060556</td>\n",
       "      <td>-0.065805</td>\n",
       "      <td>-0.064988</td>\n",
       "      <td>-0.062097</td>\n",
       "      <td>-0.061955</td>\n",
       "      <td>-0.064759</td>\n",
       "      <td>-0.066886</td>\n",
       "      <td>...</td>\n",
       "      <td>-0.002151</td>\n",
       "      <td>-0.000088</td>\n",
       "      <td>0.000891</td>\n",
       "      <td>0.000942</td>\n",
       "      <td>0.001294</td>\n",
       "      <td>0.001878</td>\n",
       "      <td>0.001739</td>\n",
       "      <td>0.001946</td>\n",
       "      <td>0.001301</td>\n",
       "      <td>0.0</td>\n",
       "    </tr>\n",
       "    <tr>\n",
       "      <th>...</th>\n",
       "      <td>...</td>\n",
       "      <td>...</td>\n",
       "      <td>...</td>\n",
       "      <td>...</td>\n",
       "      <td>...</td>\n",
       "      <td>...</td>\n",
       "      <td>...</td>\n",
       "      <td>...</td>\n",
       "      <td>...</td>\n",
       "      <td>...</td>\n",
       "      <td>...</td>\n",
       "      <td>...</td>\n",
       "      <td>...</td>\n",
       "      <td>...</td>\n",
       "      <td>...</td>\n",
       "      <td>...</td>\n",
       "      <td>...</td>\n",
       "      <td>...</td>\n",
       "      <td>...</td>\n",
       "      <td>...</td>\n",
       "      <td>...</td>\n",
       "    </tr>\n",
       "    <tr>\n",
       "      <th>304</th>\n",
       "      <td>0.0</td>\n",
       "      <td>-0.012075</td>\n",
       "      <td>-0.015969</td>\n",
       "      <td>-0.016275</td>\n",
       "      <td>-0.015292</td>\n",
       "      <td>-0.015369</td>\n",
       "      <td>-0.016400</td>\n",
       "      <td>-0.013721</td>\n",
       "      <td>-0.014503</td>\n",
       "      <td>-0.013820</td>\n",
       "      <td>...</td>\n",
       "      <td>-0.001666</td>\n",
       "      <td>-0.000538</td>\n",
       "      <td>0.000050</td>\n",
       "      <td>0.001191</td>\n",
       "      <td>0.001467</td>\n",
       "      <td>0.001823</td>\n",
       "      <td>0.001420</td>\n",
       "      <td>0.001671</td>\n",
       "      <td>0.000966</td>\n",
       "      <td>0.0</td>\n",
       "    </tr>\n",
       "    <tr>\n",
       "      <th>305</th>\n",
       "      <td>0.0</td>\n",
       "      <td>-0.017376</td>\n",
       "      <td>-0.024656</td>\n",
       "      <td>-0.025636</td>\n",
       "      <td>-0.026982</td>\n",
       "      <td>-0.027625</td>\n",
       "      <td>-0.029134</td>\n",
       "      <td>-0.027138</td>\n",
       "      <td>-0.026919</td>\n",
       "      <td>-0.022834</td>\n",
       "      <td>...</td>\n",
       "      <td>-0.001481</td>\n",
       "      <td>0.000275</td>\n",
       "      <td>0.000287</td>\n",
       "      <td>0.000239</td>\n",
       "      <td>0.000755</td>\n",
       "      <td>0.001314</td>\n",
       "      <td>0.001320</td>\n",
       "      <td>0.000946</td>\n",
       "      <td>0.000392</td>\n",
       "      <td>0.0</td>\n",
       "    </tr>\n",
       "    <tr>\n",
       "      <th>306</th>\n",
       "      <td>0.0</td>\n",
       "      <td>-0.011666</td>\n",
       "      <td>-0.018976</td>\n",
       "      <td>-0.019419</td>\n",
       "      <td>-0.017430</td>\n",
       "      <td>-0.017057</td>\n",
       "      <td>-0.019041</td>\n",
       "      <td>-0.021120</td>\n",
       "      <td>-0.019771</td>\n",
       "      <td>-0.015616</td>\n",
       "      <td>...</td>\n",
       "      <td>-0.000739</td>\n",
       "      <td>0.001393</td>\n",
       "      <td>0.001246</td>\n",
       "      <td>0.000687</td>\n",
       "      <td>0.001516</td>\n",
       "      <td>0.001923</td>\n",
       "      <td>0.002260</td>\n",
       "      <td>0.001411</td>\n",
       "      <td>0.001238</td>\n",
       "      <td>0.0</td>\n",
       "    </tr>\n",
       "    <tr>\n",
       "      <th>307</th>\n",
       "      <td>0.0</td>\n",
       "      <td>-0.011431</td>\n",
       "      <td>-0.018292</td>\n",
       "      <td>-0.017184</td>\n",
       "      <td>-0.015339</td>\n",
       "      <td>-0.016573</td>\n",
       "      <td>-0.016317</td>\n",
       "      <td>-0.016650</td>\n",
       "      <td>-0.016017</td>\n",
       "      <td>-0.012436</td>\n",
       "      <td>...</td>\n",
       "      <td>-0.004132</td>\n",
       "      <td>-0.002063</td>\n",
       "      <td>-0.000858</td>\n",
       "      <td>-0.000701</td>\n",
       "      <td>-0.000713</td>\n",
       "      <td>0.000067</td>\n",
       "      <td>0.000204</td>\n",
       "      <td>-0.000403</td>\n",
       "      <td>-0.001296</td>\n",
       "      <td>0.0</td>\n",
       "    </tr>\n",
       "    <tr>\n",
       "      <th>308</th>\n",
       "      <td>0.0</td>\n",
       "      <td>-0.018928</td>\n",
       "      <td>-0.026700</td>\n",
       "      <td>-0.025570</td>\n",
       "      <td>-0.028584</td>\n",
       "      <td>-0.031157</td>\n",
       "      <td>-0.033729</td>\n",
       "      <td>-0.034759</td>\n",
       "      <td>-0.034358</td>\n",
       "      <td>-0.030803</td>\n",
       "      <td>...</td>\n",
       "      <td>-0.000888</td>\n",
       "      <td>-0.001224</td>\n",
       "      <td>-0.001000</td>\n",
       "      <td>0.000580</td>\n",
       "      <td>0.000546</td>\n",
       "      <td>0.000900</td>\n",
       "      <td>0.000145</td>\n",
       "      <td>-0.000180</td>\n",
       "      <td>-0.000068</td>\n",
       "      <td>0.0</td>\n",
       "    </tr>\n",
       "  </tbody>\n",
       "</table>\n",
       "<p>309 rows × 900 columns</p>\n",
       "</div>"
      ]
     },
     "metadata": {},
     "execution_count": 9
    }
   ],
   "metadata": {}
  },
  {
   "cell_type": "markdown",
   "source": [
    "X_train, X_test, y_train, y_test = train_test_split(X, y, random_state=42, test_size=0.2)"
   ],
   "metadata": {}
  },
  {
   "cell_type": "code",
   "execution_count": 83,
   "source": [
    "X, y = shuffle(X, y)"
   ],
   "outputs": [],
   "metadata": {}
  },
  {
   "cell_type": "code",
   "execution_count": 87,
   "source": [
    "X_train, X_test, y_train, y_test = train_test_split(X, y, test_size=0.25, random_state=42, shuffle=True)"
   ],
   "outputs": [],
   "metadata": {}
  },
  {
   "cell_type": "code",
   "execution_count": 88,
   "source": [
    "y_test"
   ],
   "outputs": [
    {
     "output_type": "execute_result",
     "data": {
      "text/plain": [
       "     diagnostic\n",
       "231           1\n",
       "189           1\n",
       "217           1\n",
       "299           1\n",
       "86            0\n",
       "..          ...\n",
       "117           0\n",
       "28            0\n",
       "141           0\n",
       "37            0\n",
       "302           1\n",
       "\n",
       "[78 rows x 1 columns]"
      ],
      "text/html": [
       "<div>\n",
       "<style scoped>\n",
       "    .dataframe tbody tr th:only-of-type {\n",
       "        vertical-align: middle;\n",
       "    }\n",
       "\n",
       "    .dataframe tbody tr th {\n",
       "        vertical-align: top;\n",
       "    }\n",
       "\n",
       "    .dataframe thead th {\n",
       "        text-align: right;\n",
       "    }\n",
       "</style>\n",
       "<table border=\"1\" class=\"dataframe\">\n",
       "  <thead>\n",
       "    <tr style=\"text-align: right;\">\n",
       "      <th></th>\n",
       "      <th>diagnostic</th>\n",
       "    </tr>\n",
       "  </thead>\n",
       "  <tbody>\n",
       "    <tr>\n",
       "      <th>231</th>\n",
       "      <td>1</td>\n",
       "    </tr>\n",
       "    <tr>\n",
       "      <th>189</th>\n",
       "      <td>1</td>\n",
       "    </tr>\n",
       "    <tr>\n",
       "      <th>217</th>\n",
       "      <td>1</td>\n",
       "    </tr>\n",
       "    <tr>\n",
       "      <th>299</th>\n",
       "      <td>1</td>\n",
       "    </tr>\n",
       "    <tr>\n",
       "      <th>86</th>\n",
       "      <td>0</td>\n",
       "    </tr>\n",
       "    <tr>\n",
       "      <th>...</th>\n",
       "      <td>...</td>\n",
       "    </tr>\n",
       "    <tr>\n",
       "      <th>117</th>\n",
       "      <td>0</td>\n",
       "    </tr>\n",
       "    <tr>\n",
       "      <th>28</th>\n",
       "      <td>0</td>\n",
       "    </tr>\n",
       "    <tr>\n",
       "      <th>141</th>\n",
       "      <td>0</td>\n",
       "    </tr>\n",
       "    <tr>\n",
       "      <th>37</th>\n",
       "      <td>0</td>\n",
       "    </tr>\n",
       "    <tr>\n",
       "      <th>302</th>\n",
       "      <td>1</td>\n",
       "    </tr>\n",
       "  </tbody>\n",
       "</table>\n",
       "<p>78 rows × 1 columns</p>\n",
       "</div>"
      ]
     },
     "metadata": {},
     "execution_count": 88
    }
   ],
   "metadata": {}
  },
  {
   "cell_type": "markdown",
   "source": [
    "# Model"
   ],
   "metadata": {}
  },
  {
   "cell_type": "code",
   "execution_count": null,
   "source": [
    "def create_model():\r\n",
    "  model = tf.keras.models.Sequential([\r\n",
    "    tf.keras.layers.Dense(64, input_shape=(900, )),\r\n",
    "    tf.keras.layers.Dense(128, activation='relu'),\r\n",
    "    tf.keras.layers.Dense(128, activation='relu'),\r\n",
    "    tf.keras.layers.Dropout(0.2),\r\n",
    "    tf.keras.layers.Dense(1)\r\n",
    "  ])\r\n",
    "  \r\n",
    "  opt = Adam()\r\n",
    "  model.compile(optimizer=opt, \r\n",
    "                loss='binary_crossentropy', \r\n",
    "                metrics=['accuracy'])\r\n",
    "\r\n",
    "  return model"
   ],
   "outputs": [],
   "metadata": {}
  },
  {
   "cell_type": "code",
   "execution_count": 155,
   "source": [
    "model.reset_states()\r\n",
    "\r\n",
    "model = tf.keras.models.Sequential([\r\n",
    "  tf.keras.layers.Dense(64, input_shape=(900, )),\r\n",
    "  tf.keras.layers.Dense(128, activation='relu'),\r\n",
    "  tf.keras.layers.Dense(128, activation='relu'),\r\n",
    "  tf.keras.layers.Dropout(0.2),\r\n",
    "  tf.keras.layers.Dense(1)\r\n",
    "])"
   ],
   "outputs": [],
   "metadata": {}
  },
  {
   "cell_type": "code",
   "execution_count": 156,
   "source": [
    "opt = Adam()\r\n",
    "model.compile(optimizer=opt, loss='binary_crossentropy', metrics=['accuracy'])"
   ],
   "outputs": [],
   "metadata": {}
  },
  {
   "cell_type": "code",
   "execution_count": 157,
   "source": [
    "model.fit(X_train, y_train, epochs=20, validation_data=(X_test, y_test))"
   ],
   "outputs": [
    {
     "output_type": "stream",
     "name": "stdout",
     "text": [
      "Epoch 1/20\n",
      "8/8 [==============================] - 0s 17ms/step - loss: 0.9855 - accuracy: 0.5152 - val_loss: 0.8422 - val_accuracy: 0.4615\n",
      "Epoch 2/20\n",
      "8/8 [==============================] - 0s 5ms/step - loss: 0.7561 - accuracy: 0.5455 - val_loss: 0.6896 - val_accuracy: 0.5385\n",
      "Epoch 3/20\n",
      "8/8 [==============================] - 0s 4ms/step - loss: 0.7069 - accuracy: 0.5108 - val_loss: 0.6703 - val_accuracy: 0.5256\n",
      "Epoch 4/20\n",
      "8/8 [==============================] - 0s 3ms/step - loss: 0.7078 - accuracy: 0.5238 - val_loss: 0.6474 - val_accuracy: 0.6795\n",
      "Epoch 5/20\n",
      "8/8 [==============================] - 0s 6ms/step - loss: 0.6515 - accuracy: 0.6061 - val_loss: 0.6338 - val_accuracy: 0.5128\n",
      "Epoch 6/20\n",
      "8/8 [==============================] - 0s 3ms/step - loss: 0.6041 - accuracy: 0.6710 - val_loss: 0.6016 - val_accuracy: 0.7692\n",
      "Epoch 7/20\n",
      "8/8 [==============================] - 0s 3ms/step - loss: 0.5824 - accuracy: 0.7229 - val_loss: 0.5757 - val_accuracy: 0.6538\n",
      "Epoch 8/20\n",
      "8/8 [==============================] - 0s 3ms/step - loss: 0.5283 - accuracy: 0.7835 - val_loss: 0.5341 - val_accuracy: 0.7179\n",
      "Epoch 9/20\n",
      "8/8 [==============================] - 0s 5ms/step - loss: 0.5231 - accuracy: 0.7749 - val_loss: 0.4886 - val_accuracy: 0.7949\n",
      "Epoch 10/20\n",
      "8/8 [==============================] - 0s 6ms/step - loss: 0.4455 - accuracy: 0.8009 - val_loss: 0.4919 - val_accuracy: 0.8205\n",
      "Epoch 11/20\n",
      "8/8 [==============================] - 0s 4ms/step - loss: 0.4629 - accuracy: 0.7965 - val_loss: 0.4033 - val_accuracy: 0.8205\n",
      "Epoch 12/20\n",
      "8/8 [==============================] - 0s 3ms/step - loss: 0.5676 - accuracy: 0.7922 - val_loss: 0.6214 - val_accuracy: 0.5256\n",
      "Epoch 13/20\n",
      "8/8 [==============================] - 0s 3ms/step - loss: 0.4446 - accuracy: 0.7532 - val_loss: 0.4283 - val_accuracy: 0.8590\n",
      "Epoch 14/20\n",
      "8/8 [==============================] - 0s 5ms/step - loss: 0.3905 - accuracy: 0.8268 - val_loss: 0.4978 - val_accuracy: 0.5897\n",
      "Epoch 15/20\n",
      "8/8 [==============================] - 0s 3ms/step - loss: 0.6276 - accuracy: 0.8398 - val_loss: 0.2778 - val_accuracy: 0.9487\n",
      "Epoch 16/20\n",
      "8/8 [==============================] - 0s 3ms/step - loss: 0.3464 - accuracy: 0.8052 - val_loss: 0.2590 - val_accuracy: 0.9615\n",
      "Epoch 17/20\n",
      "8/8 [==============================] - 0s 3ms/step - loss: 1.7997 - accuracy: 0.6580 - val_loss: 0.6962 - val_accuracy: 0.4872\n",
      "Epoch 18/20\n",
      "8/8 [==============================] - 0s 5ms/step - loss: 0.5120 - accuracy: 0.7273 - val_loss: 0.5047 - val_accuracy: 0.8077\n",
      "Epoch 19/20\n",
      "8/8 [==============================] - 0s 5ms/step - loss: 0.5257 - accuracy: 0.7835 - val_loss: 0.4258 - val_accuracy: 0.9487\n",
      "Epoch 20/20\n",
      "8/8 [==============================] - 0s 3ms/step - loss: 0.3846 - accuracy: 0.8918 - val_loss: 0.3287 - val_accuracy: 0.9615\n"
     ]
    },
    {
     "output_type": "execute_result",
     "data": {
      "text/plain": [
       "<tensorflow.python.keras.callbacks.History at 0x2046a9c61c8>"
      ]
     },
     "metadata": {},
     "execution_count": 157
    }
   ],
   "metadata": {}
  },
  {
   "cell_type": "markdown",
   "source": [
    "# Evaluation"
   ],
   "metadata": {}
  },
  {
   "cell_type": "code",
   "execution_count": 158,
   "source": [
    "loss = model.evaluate(X_test, y_test, verbose=0)\r\n",
    "loss"
   ],
   "outputs": [
    {
     "output_type": "execute_result",
     "data": {
      "text/plain": [
       "[0.3286992609500885, 0.9615384340286255]"
      ]
     },
     "metadata": {},
     "execution_count": 158
    }
   ],
   "metadata": {}
  },
  {
   "cell_type": "code",
   "execution_count": 159,
   "source": [
    "y_pred = model.predict(X_test)\r\n",
    "y_true = y_test"
   ],
   "outputs": [],
   "metadata": {}
  },
  {
   "cell_type": "code",
   "execution_count": 160,
   "source": [
    "y_pred_binary = []\r\n",
    "for i in y_pred:\r\n",
    "    if i < 0.5:\r\n",
    "        y_pred_binary.append(0)\r\n",
    "    else:\r\n",
    "        y_pred_binary.append(1)"
   ],
   "outputs": [],
   "metadata": {}
  },
  {
   "cell_type": "code",
   "execution_count": 161,
   "source": [
    "y_train.value_counts()"
   ],
   "outputs": [
    {
     "output_type": "execute_result",
     "data": {
      "text/plain": [
       "diagnostic\n",
       "1             121\n",
       "0             110\n",
       "dtype: int64"
      ]
     },
     "metadata": {},
     "execution_count": 161
    }
   ],
   "metadata": {}
  },
  {
   "cell_type": "code",
   "execution_count": 162,
   "source": [
    "confusion_matrix(y_true, y_pred_binary)"
   ],
   "outputs": [
    {
     "output_type": "execute_result",
     "data": {
      "text/plain": [
       "array([[40,  0],\n",
       "       [ 3, 35]], dtype=int64)"
      ]
     },
     "metadata": {},
     "execution_count": 162
    }
   ],
   "metadata": {}
  },
  {
   "cell_type": "code",
   "execution_count": 163,
   "source": [
    "accuracy_score(y_pred_binary, y_true)"
   ],
   "outputs": [
    {
     "output_type": "execute_result",
     "data": {
      "text/plain": [
       "0.9615384615384616"
      ]
     },
     "metadata": {},
     "execution_count": 163
    }
   ],
   "metadata": {}
  },
  {
   "cell_type": "markdown",
   "source": [
    "# Save Model"
   ],
   "metadata": {}
  },
  {
   "cell_type": "code",
   "execution_count": 174,
   "source": [
    "file_name_model = 'best_model_[07082021_14_07].h5'\r\n",
    "model.save(file_name_model)"
   ],
   "outputs": [],
   "metadata": {}
  },
  {
   "cell_type": "code",
   "execution_count": 176,
   "source": [
    "loaded_model = load_model(file_name_model)\r\n",
    "loaded_model.summary()"
   ],
   "outputs": [
    {
     "output_type": "stream",
     "name": "stdout",
     "text": [
      "Model: \"sequential_16\"\n",
      "_________________________________________________________________\n",
      "Layer (type)                 Output Shape              Param #   \n",
      "=================================================================\n",
      "dense_66 (Dense)             (None, 64)                57664     \n",
      "_________________________________________________________________\n",
      "dense_67 (Dense)             (None, 128)               8320      \n",
      "_________________________________________________________________\n",
      "dense_68 (Dense)             (None, 128)               16512     \n",
      "_________________________________________________________________\n",
      "dropout_16 (Dropout)         (None, 128)               0         \n",
      "_________________________________________________________________\n",
      "dense_69 (Dense)             (None, 1)                 129       \n",
      "=================================================================\n",
      "Total params: 82,625\n",
      "Trainable params: 82,625\n",
      "Non-trainable params: 0\n",
      "_________________________________________________________________\n"
     ]
    }
   ],
   "metadata": {}
  }
 ],
 "metadata": {
  "interpreter": {
   "hash": "5db974eadb4ebb57aad07ebe238fecc18af6613d41ae6a98b014d6a58e29c4c0"
  },
  "kernelspec": {
   "name": "python3",
   "display_name": "Python 3.7.9 64-bit ('tf-gpu': conda)"
  },
  "language_info": {
   "codemirror_mode": {
    "name": "ipython",
    "version": 3
   },
   "file_extension": ".py",
   "mimetype": "text/x-python",
   "name": "python",
   "nbconvert_exporter": "python",
   "pygments_lexer": "ipython3",
   "version": "3.7.9"
  },
  "orig_nbformat": 4
 },
 "nbformat": 4,
 "nbformat_minor": 2
}