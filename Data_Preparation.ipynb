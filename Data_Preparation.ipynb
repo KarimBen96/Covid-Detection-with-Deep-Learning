{
 "cells": [
  {
   "cell_type": "code",
   "execution_count": 1,
   "metadata": {},
   "outputs": [],
   "source": [
    "import numpy as np\r\n",
    "import pandas as pd"
   ]
  },
  {
   "cell_type": "code",
   "execution_count": 2,
   "metadata": {},
   "outputs": [],
   "source": [
    "df = pd.read_csv('covid_and_healthy_spectra.csv')"
   ]
  },
  {
   "cell_type": "code",
   "execution_count": 3,
   "metadata": {},
   "outputs": [
    {
     "data": {
      "text/plain": [
       "(309, 901)"
      ]
     },
     "execution_count": 3,
     "metadata": {},
     "output_type": "execute_result"
    }
   ],
   "source": [
    "df.shape"
   ]
  },
  {
   "cell_type": "code",
   "execution_count": 8,
   "metadata": {},
   "outputs": [
    {
     "data": {
      "text/plain": [
       "diagnostic\n",
       "SARS-CoV-2    159\n",
       "Healthy       150\n",
       "dtype: int64"
      ]
     },
     "execution_count": 8,
     "metadata": {},
     "output_type": "execute_result"
    }
   ],
   "source": [
    "df[['diagnostic']].value_counts()"
   ]
  },
  {
   "cell_type": "code",
   "execution_count": 10,
   "metadata": {},
   "outputs": [
    {
     "data": {
      "text/html": [
       "<div>\n",
       "<style scoped>\n",
       "    .dataframe tbody tr th:only-of-type {\n",
       "        vertical-align: middle;\n",
       "    }\n",
       "\n",
       "    .dataframe tbody tr th {\n",
       "        vertical-align: top;\n",
       "    }\n",
       "\n",
       "    .dataframe thead th {\n",
       "        text-align: right;\n",
       "    }\n",
       "</style>\n",
       "<table border=\"1\" class=\"dataframe\">\n",
       "  <thead>\n",
       "    <tr style=\"text-align: right;\">\n",
       "      <th></th>\n",
       "      <th>400</th>\n",
       "      <th>402</th>\n",
       "      <th>405</th>\n",
       "      <th>407</th>\n",
       "      <th>410</th>\n",
       "      <th>412</th>\n",
       "      <th>415</th>\n",
       "      <th>417</th>\n",
       "      <th>420</th>\n",
       "      <th>422</th>\n",
       "      <th>...</th>\n",
       "      <th>2101</th>\n",
       "      <th>2103</th>\n",
       "      <th>2104</th>\n",
       "      <th>2105</th>\n",
       "      <th>2107</th>\n",
       "      <th>2108</th>\n",
       "      <th>2109</th>\n",
       "      <th>2111</th>\n",
       "      <th>2112</th>\n",
       "      <th>diagnostic</th>\n",
       "    </tr>\n",
       "  </thead>\n",
       "  <tbody>\n",
       "    <tr>\n",
       "      <th>0</th>\n",
       "      <td>0.0</td>\n",
       "      <td>-0.015237</td>\n",
       "      <td>-0.030607</td>\n",
       "      <td>-0.038309</td>\n",
       "      <td>-0.039078</td>\n",
       "      <td>-0.035809</td>\n",
       "      <td>-0.031176</td>\n",
       "      <td>-0.030395</td>\n",
       "      <td>-0.033311</td>\n",
       "      <td>-0.031603</td>\n",
       "      <td>...</td>\n",
       "      <td>-0.000553</td>\n",
       "      <td>0.000118</td>\n",
       "      <td>0.000566</td>\n",
       "      <td>0.001245</td>\n",
       "      <td>0.000846</td>\n",
       "      <td>0.001106</td>\n",
       "      <td>0.001005</td>\n",
       "      <td>0.000117</td>\n",
       "      <td>0.0</td>\n",
       "      <td>Healthy</td>\n",
       "    </tr>\n",
       "    <tr>\n",
       "      <th>1</th>\n",
       "      <td>0.0</td>\n",
       "      <td>-0.012098</td>\n",
       "      <td>-0.028164</td>\n",
       "      <td>-0.035189</td>\n",
       "      <td>-0.036138</td>\n",
       "      <td>-0.031050</td>\n",
       "      <td>-0.026015</td>\n",
       "      <td>-0.027539</td>\n",
       "      <td>-0.028084</td>\n",
       "      <td>-0.027075</td>\n",
       "      <td>...</td>\n",
       "      <td>-0.000998</td>\n",
       "      <td>0.000278</td>\n",
       "      <td>-0.000123</td>\n",
       "      <td>0.000384</td>\n",
       "      <td>0.001010</td>\n",
       "      <td>0.000583</td>\n",
       "      <td>-0.000397</td>\n",
       "      <td>-0.000160</td>\n",
       "      <td>0.0</td>\n",
       "      <td>Healthy</td>\n",
       "    </tr>\n",
       "    <tr>\n",
       "      <th>2</th>\n",
       "      <td>0.0</td>\n",
       "      <td>-0.013000</td>\n",
       "      <td>-0.029058</td>\n",
       "      <td>-0.035021</td>\n",
       "      <td>-0.034994</td>\n",
       "      <td>-0.033025</td>\n",
       "      <td>-0.028413</td>\n",
       "      <td>-0.028470</td>\n",
       "      <td>-0.029737</td>\n",
       "      <td>-0.029198</td>\n",
       "      <td>...</td>\n",
       "      <td>-0.001554</td>\n",
       "      <td>0.000050</td>\n",
       "      <td>0.000866</td>\n",
       "      <td>0.000877</td>\n",
       "      <td>0.000871</td>\n",
       "      <td>0.001093</td>\n",
       "      <td>0.001058</td>\n",
       "      <td>0.000614</td>\n",
       "      <td>0.0</td>\n",
       "      <td>Healthy</td>\n",
       "    </tr>\n",
       "    <tr>\n",
       "      <th>3</th>\n",
       "      <td>0.0</td>\n",
       "      <td>-0.015728</td>\n",
       "      <td>-0.034346</td>\n",
       "      <td>-0.045140</td>\n",
       "      <td>-0.047671</td>\n",
       "      <td>-0.044334</td>\n",
       "      <td>-0.040807</td>\n",
       "      <td>-0.040474</td>\n",
       "      <td>-0.041417</td>\n",
       "      <td>-0.040699</td>\n",
       "      <td>...</td>\n",
       "      <td>-0.001541</td>\n",
       "      <td>-0.000198</td>\n",
       "      <td>0.000202</td>\n",
       "      <td>0.001023</td>\n",
       "      <td>0.000625</td>\n",
       "      <td>0.000420</td>\n",
       "      <td>0.000543</td>\n",
       "      <td>-0.000071</td>\n",
       "      <td>0.0</td>\n",
       "      <td>Healthy</td>\n",
       "    </tr>\n",
       "    <tr>\n",
       "      <th>4</th>\n",
       "      <td>0.0</td>\n",
       "      <td>-0.020355</td>\n",
       "      <td>-0.045839</td>\n",
       "      <td>-0.060556</td>\n",
       "      <td>-0.065805</td>\n",
       "      <td>-0.064988</td>\n",
       "      <td>-0.062097</td>\n",
       "      <td>-0.061955</td>\n",
       "      <td>-0.064759</td>\n",
       "      <td>-0.066886</td>\n",
       "      <td>...</td>\n",
       "      <td>-0.000088</td>\n",
       "      <td>0.000891</td>\n",
       "      <td>0.000942</td>\n",
       "      <td>0.001294</td>\n",
       "      <td>0.001878</td>\n",
       "      <td>0.001739</td>\n",
       "      <td>0.001946</td>\n",
       "      <td>0.001301</td>\n",
       "      <td>0.0</td>\n",
       "      <td>Healthy</td>\n",
       "    </tr>\n",
       "  </tbody>\n",
       "</table>\n",
       "<p>5 rows × 901 columns</p>\n",
       "</div>"
      ],
      "text/plain": [
       "   400       402       405       407       410       412       415       417  \\\n",
       "0  0.0 -0.015237 -0.030607 -0.038309 -0.039078 -0.035809 -0.031176 -0.030395   \n",
       "1  0.0 -0.012098 -0.028164 -0.035189 -0.036138 -0.031050 -0.026015 -0.027539   \n",
       "2  0.0 -0.013000 -0.029058 -0.035021 -0.034994 -0.033025 -0.028413 -0.028470   \n",
       "3  0.0 -0.015728 -0.034346 -0.045140 -0.047671 -0.044334 -0.040807 -0.040474   \n",
       "4  0.0 -0.020355 -0.045839 -0.060556 -0.065805 -0.064988 -0.062097 -0.061955   \n",
       "\n",
       "        420       422  ...      2101      2103      2104      2105      2107  \\\n",
       "0 -0.033311 -0.031603  ... -0.000553  0.000118  0.000566  0.001245  0.000846   \n",
       "1 -0.028084 -0.027075  ... -0.000998  0.000278 -0.000123  0.000384  0.001010   \n",
       "2 -0.029737 -0.029198  ... -0.001554  0.000050  0.000866  0.000877  0.000871   \n",
       "3 -0.041417 -0.040699  ... -0.001541 -0.000198  0.000202  0.001023  0.000625   \n",
       "4 -0.064759 -0.066886  ... -0.000088  0.000891  0.000942  0.001294  0.001878   \n",
       "\n",
       "       2108      2109      2111  2112  diagnostic  \n",
       "0  0.001106  0.001005  0.000117   0.0     Healthy  \n",
       "1  0.000583 -0.000397 -0.000160   0.0     Healthy  \n",
       "2  0.001093  0.001058  0.000614   0.0     Healthy  \n",
       "3  0.000420  0.000543 -0.000071   0.0     Healthy  \n",
       "4  0.001739  0.001946  0.001301   0.0     Healthy  \n",
       "\n",
       "[5 rows x 901 columns]"
      ]
     },
     "execution_count": 10,
     "metadata": {},
     "output_type": "execute_result"
    }
   ],
   "source": [
    "df.head(5)"
   ]
  },
  {
   "cell_type": "markdown",
   "metadata": {},
   "source": [
    "# Prepare X_train y_train X_test y_test"
   ]
  },
  {
   "cell_type": "code",
   "execution_count": 15,
   "metadata": {},
   "outputs": [],
   "source": [
    "X = df.iloc[:, :-1]\r\n",
    "y = df.iloc[:, -1]"
   ]
  },
  {
   "cell_type": "code",
   "execution_count": 17,
   "metadata": {},
   "outputs": [
    {
     "data": {
      "text/plain": [
       "0         Healthy\n",
       "1         Healthy\n",
       "2         Healthy\n",
       "3         Healthy\n",
       "4         Healthy\n",
       "          ...    \n",
       "304    SARS-CoV-2\n",
       "305    SARS-CoV-2\n",
       "306    SARS-CoV-2\n",
       "307    SARS-CoV-2\n",
       "308    SARS-CoV-2\n",
       "Name: diagnostic, Length: 309, dtype: object"
      ]
     },
     "execution_count": 17,
     "metadata": {},
     "output_type": "execute_result"
    }
   ],
   "source": [
    "y"
   ]
  },
  {
   "cell_type": "code",
   "execution_count": 34,
   "metadata": {},
   "outputs": [
    {
     "data": {
      "text/html": [
       "<div>\n",
       "<style scoped>\n",
       "    .dataframe tbody tr th:only-of-type {\n",
       "        vertical-align: middle;\n",
       "    }\n",
       "\n",
       "    .dataframe tbody tr th {\n",
       "        vertical-align: top;\n",
       "    }\n",
       "\n",
       "    .dataframe thead th {\n",
       "        text-align: right;\n",
       "    }\n",
       "</style>\n",
       "<table border=\"1\" class=\"dataframe\">\n",
       "  <thead>\n",
       "    <tr style=\"text-align: right;\">\n",
       "      <th></th>\n",
       "      <th>diagnostic</th>\n",
       "    </tr>\n",
       "  </thead>\n",
       "  <tbody>\n",
       "    <tr>\n",
       "      <th>0</th>\n",
       "      <td>0</td>\n",
       "    </tr>\n",
       "    <tr>\n",
       "      <th>1</th>\n",
       "      <td>0</td>\n",
       "    </tr>\n",
       "    <tr>\n",
       "      <th>2</th>\n",
       "      <td>0</td>\n",
       "    </tr>\n",
       "    <tr>\n",
       "      <th>3</th>\n",
       "      <td>0</td>\n",
       "    </tr>\n",
       "    <tr>\n",
       "      <th>4</th>\n",
       "      <td>0</td>\n",
       "    </tr>\n",
       "    <tr>\n",
       "      <th>...</th>\n",
       "      <td>...</td>\n",
       "    </tr>\n",
       "    <tr>\n",
       "      <th>304</th>\n",
       "      <td>1</td>\n",
       "    </tr>\n",
       "    <tr>\n",
       "      <th>305</th>\n",
       "      <td>1</td>\n",
       "    </tr>\n",
       "    <tr>\n",
       "      <th>306</th>\n",
       "      <td>1</td>\n",
       "    </tr>\n",
       "    <tr>\n",
       "      <th>307</th>\n",
       "      <td>1</td>\n",
       "    </tr>\n",
       "    <tr>\n",
       "      <th>308</th>\n",
       "      <td>1</td>\n",
       "    </tr>\n",
       "  </tbody>\n",
       "</table>\n",
       "<p>309 rows × 1 columns</p>\n",
       "</div>"
      ],
      "text/plain": [
       "     diagnostic\n",
       "0             0\n",
       "1             0\n",
       "2             0\n",
       "3             0\n",
       "4             0\n",
       "..          ...\n",
       "304           1\n",
       "305           1\n",
       "306           1\n",
       "307           1\n",
       "308           1\n",
       "\n",
       "[309 rows x 1 columns]"
      ]
     },
     "execution_count": 34,
     "metadata": {},
     "output_type": "execute_result"
    }
   ],
   "source": [
    "y_num = y.replace({'Healthy': 0, 'SARS-CoV-2':1}, inplace=False)\r\n",
    "y_num = y_num.to_frame()\r\n",
    "y_num"
   ]
  },
  {
   "cell_type": "code",
   "execution_count": 25,
   "metadata": {},
   "outputs": [
    {
     "data": {
      "text/plain": [
       "diagnostic\n",
       "1             159\n",
       "0             150\n",
       "dtype: int64"
      ]
     },
     "execution_count": 25,
     "metadata": {},
     "output_type": "execute_result"
    }
   ],
   "source": [
    "y_num[['diagnostic']].value_counts()"
   ]
  },
  {
   "cell_type": "code",
   "execution_count": 37,
   "metadata": {},
   "outputs": [
    {
     "data": {
      "text/html": [
       "<div>\n",
       "<style scoped>\n",
       "    .dataframe tbody tr th:only-of-type {\n",
       "        vertical-align: middle;\n",
       "    }\n",
       "\n",
       "    .dataframe tbody tr th {\n",
       "        vertical-align: top;\n",
       "    }\n",
       "\n",
       "    .dataframe thead th {\n",
       "        text-align: right;\n",
       "    }\n",
       "</style>\n",
       "<table border=\"1\" class=\"dataframe\">\n",
       "  <thead>\n",
       "    <tr style=\"text-align: right;\">\n",
       "      <th></th>\n",
       "      <th>diagnostic</th>\n",
       "    </tr>\n",
       "  </thead>\n",
       "  <tbody>\n",
       "    <tr>\n",
       "      <th>0</th>\n",
       "      <td>0</td>\n",
       "    </tr>\n",
       "    <tr>\n",
       "      <th>1</th>\n",
       "      <td>0</td>\n",
       "    </tr>\n",
       "    <tr>\n",
       "      <th>2</th>\n",
       "      <td>0</td>\n",
       "    </tr>\n",
       "    <tr>\n",
       "      <th>3</th>\n",
       "      <td>0</td>\n",
       "    </tr>\n",
       "    <tr>\n",
       "      <th>4</th>\n",
       "      <td>0</td>\n",
       "    </tr>\n",
       "    <tr>\n",
       "      <th>...</th>\n",
       "      <td>...</td>\n",
       "    </tr>\n",
       "    <tr>\n",
       "      <th>304</th>\n",
       "      <td>1</td>\n",
       "    </tr>\n",
       "    <tr>\n",
       "      <th>305</th>\n",
       "      <td>1</td>\n",
       "    </tr>\n",
       "    <tr>\n",
       "      <th>306</th>\n",
       "      <td>1</td>\n",
       "    </tr>\n",
       "    <tr>\n",
       "      <th>307</th>\n",
       "      <td>1</td>\n",
       "    </tr>\n",
       "    <tr>\n",
       "      <th>308</th>\n",
       "      <td>1</td>\n",
       "    </tr>\n",
       "  </tbody>\n",
       "</table>\n",
       "<p>309 rows × 1 columns</p>\n",
       "</div>"
      ],
      "text/plain": [
       "     diagnostic\n",
       "0             0\n",
       "1             0\n",
       "2             0\n",
       "3             0\n",
       "4             0\n",
       "..          ...\n",
       "304           1\n",
       "305           1\n",
       "306           1\n",
       "307           1\n",
       "308           1\n",
       "\n",
       "[309 rows x 1 columns]"
      ]
     },
     "execution_count": 37,
     "metadata": {},
     "output_type": "execute_result"
    }
   ],
   "source": [
    "y_num"
   ]
  },
  {
   "cell_type": "markdown",
   "metadata": {},
   "source": [
    "# Save X and y as dataframes"
   ]
  },
  {
   "cell_type": "code",
   "execution_count": 36,
   "metadata": {},
   "outputs": [],
   "source": [
    "X.to_csv('X.csv', index=False) \r\n",
    "y_num.to_csv('y.csv', index=False) "
   ]
  }
 ],
 "metadata": {
  "interpreter": {
   "hash": "5db974eadb4ebb57aad07ebe238fecc18af6613d41ae6a98b014d6a58e29c4c0"
  },
  "kernelspec": {
   "display_name": "Python 3.7.9 64-bit ('tf-gpu': conda)",
   "name": "python3"
  },
  "language_info": {
   "codemirror_mode": {
    "name": "ipython",
    "version": 3
   },
   "file_extension": ".py",
   "mimetype": "text/x-python",
   "name": "python",
   "nbconvert_exporter": "python",
   "pygments_lexer": "ipython3",
   "version": "3.7.9"
  },
  "orig_nbformat": 4
 },
 "nbformat": 4,
 "nbformat_minor": 2
}